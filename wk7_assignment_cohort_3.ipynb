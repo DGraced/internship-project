{
 "cells": [
  {
   "cell_type": "markdown",
   "id": "5bd9d5df-dec9-45bb-bf13-ee4201cda286",
   "metadata": {},
   "source": [
    "## **Assignment- Week 5**\n",
    "**Instructions:** \n",
    "- Answer each question on a separate cell, either in a markdown or code cell depending on the question.\n",
    "- FOr e\n",
    "- Use comments in your code"
   ]
  },
  {
   "cell_type": "markdown",
   "id": "f7c576f4-0091-4b89-af0d-1869afef6185",
   "metadata": {},
   "source": [
    "## **Dataset Description**\n",
    "You are presented with a customer booking dataset that contains information about airline bookings, including the number of passengers, sales channel, trip type, purchase lead time, length of stay, flight hour, flight day, route, booking origin, and various flags indicating if the customer wanted extra baggage, preferred seat, or in-flight meals. The dataset also includes the total flight duration and a flag indicating if the booking was completed. \n",
    "\n",
    "**Using the data, provide the following answers:**\n",
    "1. What is the shape of our dataframe and explain what the shape means?\n",
    "2. How many columns have null values and how many duplicate records are in the dataset?\n",
    "3. Remove duplicates, rows with null values and the `purchase lead` and `booking origin` columns, what is the new shape of the dataframe?\n",
    "4. What are the different datatypes we have in the dataset?\n",
    "5. What are the different `trip types` available to customers and which one is mostly used?\n",
    "6. What is the most used `sales channel` for booking by customers?\n",
    "7. Which day had the highest `total number of flights`?\n",
    "8. How many customers wanted a `preferred seat` and in `flight meals`?\n",
    "9. Which of the `trip type` had the highest average `flight duration`?\n",
    "10. Which day of the week had the highest average `flight duration`?"
   ]
  },
  {
   "cell_type": "markdown",
   "id": "d81c836b-4821-4d09-bc9e-897b3ce5c181",
   "metadata": {},
   "source": [
    "## **Columns description**\n",
    "**Note:**\\\n",
    "1 = True/Yes\\\n",
    "0 = False/No\n",
    "- `num_passengers` = number of passengers travelling\n",
    "- `sales_channel` = sales channel booking was made on\n",
    "- `trip_type = trip` Type (Round Trip, One Way, Circle Trip)\n",
    "- `purchase_lead` = number of days between travel date and booking date\n",
    "- `length_of_stay` = number of days spent at destination\n",
    "- `flight_hour` = hour (time) of flight departure\n",
    "- `flight_day` = day of week of flight departure\n",
    "- `booking_origin` = country from where booking was made\n",
    "- `wants_extra_baggage` = if the customer wanted extra baggage in the booking\n",
    "- `wants_preferred_seat` = if the customer wanted a preferred seat in the booking\n",
    "- `wants_in_flight_meals` = if the customer wanted in-flight meals in the booking\n",
    "- `flight_duration` = total duration of flight (in hours)\n",
    "- `booking_complete` = flag indicating if the customer completed the booking"
   ]
  },
  {
   "cell_type": "code",
   "execution_count": 190,
   "id": "dd45b39a",
   "metadata": {},
   "outputs": [],
   "source": [
    "import pandas as pd\n",
    "import numpy as np\n"
   ]
  },
  {
   "cell_type": "code",
   "execution_count": 191,
   "id": "97caedb3",
   "metadata": {},
   "outputs": [],
   "source": [
    "df = pd.read_csv('customer_bookings.csv')\n"
   ]
  },
  {
   "cell_type": "code",
   "execution_count": 192,
   "id": "b424298b",
   "metadata": {},
   "outputs": [
    {
     "data": {
      "text/html": [
       "<div>\n",
       "<style scoped>\n",
       "    .dataframe tbody tr th:only-of-type {\n",
       "        vertical-align: middle;\n",
       "    }\n",
       "\n",
       "    .dataframe tbody tr th {\n",
       "        vertical-align: top;\n",
       "    }\n",
       "\n",
       "    .dataframe thead th {\n",
       "        text-align: right;\n",
       "    }\n",
       "</style>\n",
       "<table border=\"1\" class=\"dataframe\">\n",
       "  <thead>\n",
       "    <tr style=\"text-align: right;\">\n",
       "      <th></th>\n",
       "      <th>num_passengers</th>\n",
       "      <th>sales_channel</th>\n",
       "      <th>trip_type</th>\n",
       "      <th>purchase_lead</th>\n",
       "      <th>length_of_stay</th>\n",
       "      <th>flight_hour</th>\n",
       "      <th>flight_day</th>\n",
       "      <th>route</th>\n",
       "      <th>booking_origin</th>\n",
       "      <th>wants_extra_baggage</th>\n",
       "      <th>wants_preferred_seat</th>\n",
       "      <th>wants_in_flight_meals</th>\n",
       "      <th>flight_duration</th>\n",
       "      <th>booking_complete</th>\n",
       "    </tr>\n",
       "  </thead>\n",
       "  <tbody>\n",
       "    <tr>\n",
       "      <th>0</th>\n",
       "      <td>2</td>\n",
       "      <td>Internet</td>\n",
       "      <td>RoundTrip</td>\n",
       "      <td>262.0</td>\n",
       "      <td>19.0</td>\n",
       "      <td>7.0</td>\n",
       "      <td>Sat</td>\n",
       "      <td>AKLDEL</td>\n",
       "      <td>New Zealand</td>\n",
       "      <td>1.0</td>\n",
       "      <td>0.0</td>\n",
       "      <td>0.0</td>\n",
       "      <td>5.52</td>\n",
       "      <td>0</td>\n",
       "    </tr>\n",
       "    <tr>\n",
       "      <th>1</th>\n",
       "      <td>1</td>\n",
       "      <td>Internet</td>\n",
       "      <td>RoundTrip</td>\n",
       "      <td>112.0</td>\n",
       "      <td>20.0</td>\n",
       "      <td>3.0</td>\n",
       "      <td>Sat</td>\n",
       "      <td>AKLDEL</td>\n",
       "      <td>New Zealand</td>\n",
       "      <td>0.0</td>\n",
       "      <td>0.0</td>\n",
       "      <td>0.0</td>\n",
       "      <td>5.52</td>\n",
       "      <td>0</td>\n",
       "    </tr>\n",
       "    <tr>\n",
       "      <th>2</th>\n",
       "      <td>2</td>\n",
       "      <td>Internet</td>\n",
       "      <td>RoundTrip</td>\n",
       "      <td>243.0</td>\n",
       "      <td>22.0</td>\n",
       "      <td>17.0</td>\n",
       "      <td>Wed</td>\n",
       "      <td>AKLDEL</td>\n",
       "      <td>India</td>\n",
       "      <td>1.0</td>\n",
       "      <td>1.0</td>\n",
       "      <td>0.0</td>\n",
       "      <td>5.52</td>\n",
       "      <td>0</td>\n",
       "    </tr>\n",
       "    <tr>\n",
       "      <th>3</th>\n",
       "      <td>1</td>\n",
       "      <td>Internet</td>\n",
       "      <td>RoundTrip</td>\n",
       "      <td>96.0</td>\n",
       "      <td>31.0</td>\n",
       "      <td>4.0</td>\n",
       "      <td>Sat</td>\n",
       "      <td>AKLDEL</td>\n",
       "      <td>New Zealand</td>\n",
       "      <td>0.0</td>\n",
       "      <td>0.0</td>\n",
       "      <td>1.0</td>\n",
       "      <td>5.52</td>\n",
       "      <td>0</td>\n",
       "    </tr>\n",
       "    <tr>\n",
       "      <th>4</th>\n",
       "      <td>2</td>\n",
       "      <td>Internet</td>\n",
       "      <td>RoundTrip</td>\n",
       "      <td>68.0</td>\n",
       "      <td>22.0</td>\n",
       "      <td>15.0</td>\n",
       "      <td>Wed</td>\n",
       "      <td>AKLDEL</td>\n",
       "      <td>India</td>\n",
       "      <td>1.0</td>\n",
       "      <td>0.0</td>\n",
       "      <td>1.0</td>\n",
       "      <td>5.52</td>\n",
       "      <td>0</td>\n",
       "    </tr>\n",
       "  </tbody>\n",
       "</table>\n",
       "</div>"
      ],
      "text/plain": [
       "   num_passengers sales_channel  trip_type  purchase_lead  length_of_stay  \\\n",
       "0               2      Internet  RoundTrip          262.0            19.0   \n",
       "1               1      Internet  RoundTrip          112.0            20.0   \n",
       "2               2      Internet  RoundTrip          243.0            22.0   \n",
       "3               1      Internet  RoundTrip           96.0            31.0   \n",
       "4               2      Internet  RoundTrip           68.0            22.0   \n",
       "\n",
       "   flight_hour flight_day   route booking_origin  wants_extra_baggage  \\\n",
       "0          7.0        Sat  AKLDEL    New Zealand                  1.0   \n",
       "1          3.0        Sat  AKLDEL    New Zealand                  0.0   \n",
       "2         17.0        Wed  AKLDEL          India                  1.0   \n",
       "3          4.0        Sat  AKLDEL    New Zealand                  0.0   \n",
       "4         15.0        Wed  AKLDEL          India                  1.0   \n",
       "\n",
       "   wants_preferred_seat  wants_in_flight_meals  flight_duration  \\\n",
       "0                   0.0                    0.0             5.52   \n",
       "1                   0.0                    0.0             5.52   \n",
       "2                   1.0                    0.0             5.52   \n",
       "3                   0.0                    1.0             5.52   \n",
       "4                   0.0                    1.0             5.52   \n",
       "\n",
       "   booking_complete  \n",
       "0                 0  \n",
       "1                 0  \n",
       "2                 0  \n",
       "3                 0  \n",
       "4                 0  "
      ]
     },
     "execution_count": 192,
     "metadata": {},
     "output_type": "execute_result"
    }
   ],
   "source": [
    "df.head()\n"
   ]
  },
  {
   "cell_type": "code",
   "execution_count": 193,
   "id": "839d043b",
   "metadata": {},
   "outputs": [
    {
     "name": "stdout",
     "output_type": "stream",
     "text": [
      "<class 'pandas.core.frame.DataFrame'>\n",
      "RangeIndex: 50017 entries, 0 to 50016\n",
      "Data columns (total 14 columns):\n",
      " #   Column                 Non-Null Count  Dtype  \n",
      "---  ------                 --------------  -----  \n",
      " 0   num_passengers         50017 non-null  int64  \n",
      " 1   sales_channel          50007 non-null  object \n",
      " 2   trip_type              50012 non-null  object \n",
      " 3   purchase_lead          49992 non-null  float64\n",
      " 4   length_of_stay         50010 non-null  float64\n",
      " 5   flight_hour            50002 non-null  float64\n",
      " 6   flight_day             50013 non-null  object \n",
      " 7   route                  50014 non-null  object \n",
      " 8   booking_origin         50006 non-null  object \n",
      " 9   wants_extra_baggage    50013 non-null  float64\n",
      " 10  wants_preferred_seat   50012 non-null  float64\n",
      " 11  wants_in_flight_meals  50012 non-null  float64\n",
      " 12  flight_duration        50004 non-null  float64\n",
      " 13  booking_complete       50017 non-null  int64  \n",
      "dtypes: float64(7), int64(2), object(5)\n",
      "memory usage: 5.3+ MB\n"
     ]
    }
   ],
   "source": [
    "\n",
    "df.info()"
   ]
  },
  {
   "cell_type": "markdown",
   "id": "fba80ebc",
   "metadata": {},
   "source": [
    "# data cleaning\n"
   ]
  },
  {
   "cell_type": "code",
   "execution_count": 194,
   "id": "328bef21",
   "metadata": {},
   "outputs": [
    {
     "data": {
      "text/plain": [
       "num_passengers            0\n",
       "sales_channel            10\n",
       "trip_type                 5\n",
       "purchase_lead            25\n",
       "length_of_stay            7\n",
       "flight_hour              15\n",
       "flight_day                4\n",
       "route                     3\n",
       "booking_origin           11\n",
       "wants_extra_baggage       4\n",
       "wants_preferred_seat      5\n",
       "wants_in_flight_meals     5\n",
       "flight_duration          13\n",
       "booking_complete          0\n",
       "dtype: int64"
      ]
     },
     "execution_count": 194,
     "metadata": {},
     "output_type": "execute_result"
    }
   ],
   "source": [
    " #Checking for missing values\n",
    "df.isnull().sum()"
   ]
  },
  {
   "cell_type": "code",
   "execution_count": 195,
   "id": "0be6e6c5",
   "metadata": {},
   "outputs": [],
   "source": [
    "#dropping all colums with rows that have any missing values.\n",
    "df.dropna(inplace=True)\n"
   ]
  },
  {
   "cell_type": "code",
   "execution_count": 196,
   "id": "e9272819",
   "metadata": {},
   "outputs": [
    {
     "data": {
      "text/plain": [
       "num_passengers           0\n",
       "sales_channel            0\n",
       "trip_type                0\n",
       "purchase_lead            0\n",
       "length_of_stay           0\n",
       "flight_hour              0\n",
       "flight_day               0\n",
       "route                    0\n",
       "booking_origin           0\n",
       "wants_extra_baggage      0\n",
       "wants_preferred_seat     0\n",
       "wants_in_flight_meals    0\n",
       "flight_duration          0\n",
       "booking_complete         0\n",
       "dtype: int64"
      ]
     },
     "execution_count": 196,
     "metadata": {},
     "output_type": "execute_result"
    }
   ],
   "source": [
    "#rechecking for missing values\n",
    "df.isnull().sum()"
   ]
  },
  {
   "cell_type": "code",
   "execution_count": 197,
   "id": "7b0060bd",
   "metadata": {},
   "outputs": [],
   "source": [
    "#Standardize column names\n",
    "df.columns = df.columns.str.lower().str.replace(' ', '_')"
   ]
  },
  {
   "cell_type": "markdown",
   "id": "464fbb3b",
   "metadata": {},
   "source": [
    "# handling outliers"
   ]
  },
  {
   "cell_type": "code",
   "execution_count": 198,
   "id": "3481e92f",
   "metadata": {},
   "outputs": [
    {
     "name": "stdout",
     "output_type": "stream",
     "text": [
      "purchase_lead -> Lower Bound: -120.0, Upper Bound: 256.0\n"
     ]
    }
   ],
   "source": [
    "def print_bounds(df, column):\n",
    "    Q1 = df[column].quantile(0.25)\n",
    "    Q3 = df[column].quantile(0.75)\n",
    "    IQR = Q3 - Q1\n",
    "    lower_bound = Q1 - 1.5 * IQR\n",
    "    upper_bound = Q3 + 1.5 * IQR\n",
    "    print(f\"{column} -> Lower Bound: {lower_bound}, Upper Bound: {upper_bound}\")\n",
    "\n",
    "\n",
    "print_bounds(df, 'purchase_lead')"
   ]
  },
  {
   "cell_type": "code",
   "execution_count": 199,
   "id": "bcc5e80f",
   "metadata": {},
   "outputs": [
    {
     "name": "stdout",
     "output_type": "stream",
     "text": [
      "Number of outliers in purchase_lead: 3449\n"
     ]
    }
   ],
   "source": [
    "outliers = detect_outliers_iqr(df, 'purchase_lead')\n",
    "print(f'Number of outliers in purchase_lead: {len(outliers)}')\n"
   ]
  },
  {
   "cell_type": "code",
   "execution_count": 200,
   "id": "4b237cb0",
   "metadata": {},
   "outputs": [],
   "source": [
    "df['purchase_lead'] = df['purchase_lead'].clip(lower=lower_bound, upper=upper_bound)\n"
   ]
  },
  {
   "cell_type": "code",
   "execution_count": 201,
   "id": "2a1f7797",
   "metadata": {},
   "outputs": [
    {
     "name": "stdout",
     "output_type": "stream",
     "text": [
      "Lower Bound: 0.8050000000000006\n",
      "Upper Bound: 13.645\n"
     ]
    }
   ],
   "source": [
    "Q1 = df['flight_duration'].quantile(0.25)\n",
    "Q3 = df['flight_duration'].quantile(0.75)\n",
    "IQR = Q3 - Q1\n",
    "\n",
    "lower_bound = Q1 - 1.5 * IQR\n",
    "upper_bound = Q3 + 1.5 * IQR\n",
    "\n",
    "print(f\"Lower Bound: {lower_bound}\")\n",
    "print(f\"Upper Bound: {upper_bound}\")\n"
   ]
  },
  {
   "cell_type": "code",
   "execution_count": 202,
   "id": "9e753743",
   "metadata": {},
   "outputs": [
    {
     "name": "stdout",
     "output_type": "stream",
     "text": [
      "Number of outliers in flight_duration: 0\n"
     ]
    },
    {
     "data": {
      "text/html": [
       "<div>\n",
       "<style scoped>\n",
       "    .dataframe tbody tr th:only-of-type {\n",
       "        vertical-align: middle;\n",
       "    }\n",
       "\n",
       "    .dataframe tbody tr th {\n",
       "        vertical-align: top;\n",
       "    }\n",
       "\n",
       "    .dataframe thead th {\n",
       "        text-align: right;\n",
       "    }\n",
       "</style>\n",
       "<table border=\"1\" class=\"dataframe\">\n",
       "  <thead>\n",
       "    <tr style=\"text-align: right;\">\n",
       "      <th></th>\n",
       "      <th>num_passengers</th>\n",
       "      <th>sales_channel</th>\n",
       "      <th>trip_type</th>\n",
       "      <th>purchase_lead</th>\n",
       "      <th>length_of_stay</th>\n",
       "      <th>flight_hour</th>\n",
       "      <th>flight_day</th>\n",
       "      <th>route</th>\n",
       "      <th>booking_origin</th>\n",
       "      <th>wants_extra_baggage</th>\n",
       "      <th>wants_preferred_seat</th>\n",
       "      <th>wants_in_flight_meals</th>\n",
       "      <th>flight_duration</th>\n",
       "      <th>booking_complete</th>\n",
       "    </tr>\n",
       "  </thead>\n",
       "  <tbody>\n",
       "  </tbody>\n",
       "</table>\n",
       "</div>"
      ],
      "text/plain": [
       "Empty DataFrame\n",
       "Columns: [num_passengers, sales_channel, trip_type, purchase_lead, length_of_stay, flight_hour, flight_day, route, booking_origin, wants_extra_baggage, wants_preferred_seat, wants_in_flight_meals, flight_duration, booking_complete]\n",
       "Index: []"
      ]
     },
     "execution_count": 202,
     "metadata": {},
     "output_type": "execute_result"
    }
   ],
   "source": [
    "outliers = df[(df['flight_duration'] < lower_bound) | (df['flight_duration'] > upper_bound)]\n",
    "print(f\"Number of outliers in flight_duration: {len(outliers)}\")\n",
    "outliers\n"
   ]
  },
  {
   "cell_type": "markdown",
   "id": "e121c684",
   "metadata": {},
   "source": [
    "flight_duration: 0 means that values are within a normal and expected range."
   ]
  },
  {
   "cell_type": "markdown",
   "id": "327c6172",
   "metadata": {},
   "source": [
    "# EXPLORATORY DATA ANALYSIS"
   ]
  },
  {
   "cell_type": "markdown",
   "id": "f571464c",
   "metadata": {},
   "source": [
    "**Using the data, provide the following answers:**\n",
    "1. What is the shape of our dataframe and explain what the shape means?\n",
    "2. How many columns have null values and how many duplicate records are in the dataset?\n",
    "3. Remove duplicates, rows with null values and the `purchase lead` and `booking origin` columns, what is the new shape of the dataframe?\n",
    "4. What are the different datatypes we have in the dataset?\n",
    "5. What are the different `trip types` available to customers and which one is mostly used?\n",
    "6. What is the most used `sales channel` for booking by customers?\n",
    "7. Which day had the highest `total number of flights`?\n",
    "8. How many customers wanted a `preferred seat` and in `flight meals`?\n",
    "9. Which of the `trip type` had the highest average `flight duration`?\n",
    "10. Which day of the week had the highest average `flight duration`?"
   ]
  },
  {
   "cell_type": "code",
   "execution_count": 203,
   "id": "70b98254",
   "metadata": {},
   "outputs": [
    {
     "name": "stdout",
     "output_type": "stream",
     "text": [
      "Shape of the DataFrame: (49942, 14)\n"
     ]
    }
   ],
   "source": [
    "#1. What is the shape of our dataframe and explain what the shape means?\n",
    "\n",
    "print(\"Shape of the DataFrame:\", df.shape)\n"
   ]
  },
  {
   "cell_type": "markdown",
   "id": "28011605",
   "metadata": {},
   "source": [
    "it means that the shape is a tuple having 49207 rows and 14 columns.\n"
   ]
  },
  {
   "cell_type": "markdown",
   "id": "5edebafb",
   "metadata": {},
   "source": [
    "#2. How many columns have null values and how many duplicate records are in the dataset?\n",
    "\n",
    "\n",
    "Number of columns with null values: 0\n",
    "I handled all missing values during the data cleaning process."
   ]
  },
  {
   "cell_type": "code",
   "execution_count": 204,
   "id": "6fb14a35",
   "metadata": {},
   "outputs": [
    {
     "name": "stdout",
     "output_type": "stream",
     "text": [
      "Number of duplicate records: 889\n"
     ]
    }
   ],
   "source": [
    "# for duplicate records are in this dataset\n",
    "\n",
    "\n",
    "duplicate_rows = df.duplicated().sum()\n",
    "print(\"Number of duplicate records:\", duplicate_rows)\n"
   ]
  },
  {
   "cell_type": "markdown",
   "id": "3a81847b",
   "metadata": {},
   "source": [
    "\n",
    "The dataset contains 889 duplicate records"
   ]
  },
  {
   "cell_type": "markdown",
   "id": "32447d58",
   "metadata": {},
   "source": [
    "3. Remove duplicates, rows with null values and the `purchase lead` and `booking origin` columns, what is the new shape of the dataframe?"
   ]
  },
  {
   "cell_type": "code",
   "execution_count": 205,
   "id": "073a6d17",
   "metadata": {},
   "outputs": [],
   "source": [
    "\n",
    "#to remove duplicate rows\n",
    "df = df.drop_duplicates() \n",
    "\n",
    "#to remove rows with null values\n",
    "df = df.dropna() \n",
    "\n",
    "\n",
    "\n",
    "#to drop the columns purchase lead and booking origin\n",
    "columns_to_drop = ['purchase lead', 'booking origin']\n",
    "\n",
    "\n",
    "existing_columns_to_drop = [col for col in columns_to_drop if col in df.columns]\n",
    "\n",
    "df = df.drop(columns=existing_columns_to_drop) \n"
   ]
  },
  {
   "cell_type": "code",
   "execution_count": 206,
   "id": "0bd93b2a",
   "metadata": {},
   "outputs": [
    {
     "name": "stdout",
     "output_type": "stream",
     "text": [
      "(49053, 14)\n"
     ]
    }
   ],
   "source": [
    "#the new shape of the DataFrame\n",
    "new_shape = df.shape\n",
    "print(new_shape)\n"
   ]
  },
  {
   "cell_type": "markdown",
   "id": "c8331397",
   "metadata": {},
   "source": [
    "The new shape of the DataFrame is (49053, 14), meaning it now has 49,053 rows and 14 columns after removing duplicates, rows with null values, and the purchase lead and booking origin columns. "
   ]
  },
  {
   "cell_type": "code",
   "execution_count": 207,
   "id": "b7a3977e",
   "metadata": {},
   "outputs": [
    {
     "name": "stdout",
     "output_type": "stream",
     "text": [
      "num_passengers             int64\n",
      "sales_channel             object\n",
      "trip_type                 object\n",
      "purchase_lead            float64\n",
      "length_of_stay           float64\n",
      "flight_hour              float64\n",
      "flight_day                object\n",
      "route                     object\n",
      "booking_origin            object\n",
      "wants_extra_baggage      float64\n",
      "wants_preferred_seat     float64\n",
      "wants_in_flight_meals    float64\n",
      "flight_duration          float64\n",
      "booking_complete           int64\n",
      "dtype: object\n"
     ]
    }
   ],
   "source": [
    "#4. What are the different datatypes we have in the dataset?\n",
    "\n",
    "data_types = df.dtypes\n",
    "print(data_types)\n"
   ]
  },
  {
   "cell_type": "markdown",
   "id": "29b66cf7",
   "metadata": {},
   "source": [
    "The dataset contains the following data types:\n",
    "\n",
    "1. int64:\n",
    "\n",
    "   -num_passengers\n",
    "   -booking_complete\n",
    "\n",
    "2. float64:\n",
    "\n",
    "   -purchase_lead\n",
    "   -length_of_stay\n",
    "   -flight_hour\n",
    "   -wants_extra_baggage\n",
    "   -wants_preferred_seat\n",
    "   -wants_in_flight_meals\n",
    "   -flight_duration\n",
    "\n",
    "3. object:\n",
    "\n",
    "   -sales_channel\n",
    "   -trip_type\n",
    "   -flight_day\n",
    "   -route\n",
    "   -booking_origin"
   ]
  },
  {
   "cell_type": "code",
   "execution_count": 208,
   "id": "93b800e5",
   "metadata": {},
   "outputs": [
    {
     "name": "stdout",
     "output_type": "stream",
     "text": [
      "trip_type\n",
      "RoundTrip     48552\n",
      "OneWay          385\n",
      "CircleTrip      116\n",
      "Name: count, dtype: int64\n"
     ]
    }
   ],
   "source": [
    "#5. What are the different `trip types` available to customers and which one is mostly used?\n",
    "\n",
    "trip_types = df['trip_type'].value_counts()\n",
    "print(trip_types)\n"
   ]
  },
  {
   "cell_type": "markdown",
   "id": "44cb5692",
   "metadata": {},
   "source": [
    "The most commonly used trip type is RoundTrip with 48552 occurances."
   ]
  },
  {
   "cell_type": "code",
   "execution_count": 209,
   "id": "9db30605",
   "metadata": {},
   "outputs": [
    {
     "name": "stdout",
     "output_type": "stream",
     "text": [
      "sales_channel\n",
      "Internet    43706\n",
      "Mobile       5347\n",
      "Name: count, dtype: int64\n"
     ]
    }
   ],
   "source": [
    "#6. What is the most used `sales channel` for booking by customers?\n",
    "\n",
    "\n",
    "sales_channel_usage = df['sales_channel'].value_counts()\n",
    "print(sales_channel_usage)"
   ]
  },
  {
   "cell_type": "markdown",
   "id": "7f41148f",
   "metadata": {},
   "source": [
    "The most used sales channel for booking by customers is the Internet which has 43,706 occurrences. Followed by Mobile with 5,347 occurrences."
   ]
  },
  {
   "cell_type": "code",
   "execution_count": 210,
   "id": "828c88aa",
   "metadata": {},
   "outputs": [
    {
     "name": "stdout",
     "output_type": "stream",
     "text": [
      "The day with the highest total number of flights is: Mon\n",
      "Total number of flights on that day: 7955\n"
     ]
    }
   ],
   "source": [
    "#7. Which day had the highest `total number of flights`?\n",
    "\n",
    "\n",
    "#Step 1- Group by 'flight_day' and count occurrences\n",
    "flights_by_day = df['flight_day'].value_counts()\n",
    "\n",
    "\n",
    "#Step 2- Finding the day with the highest number of flights and counting as well for the day\n",
    "most_flights_day = flights_by_day.idxmax() \n",
    "most_flights_count = flights_by_day.max() \n",
    "\n",
    "\n",
    "#Step 3- Printing the result\n",
    "print(\"The day with the highest total number of flights is:\", most_flights_day)\n",
    "print(\"Total number of flights on that day:\", most_flights_count)\n"
   ]
  },
  {
   "cell_type": "markdown",
   "id": "0076207f",
   "metadata": {},
   "source": [
    "The day with the highest total number of flights is: Mon\n",
    "Total number of flights on that day: 7955"
   ]
  },
  {
   "cell_type": "code",
   "execution_count": 211,
   "id": "2e46c18a",
   "metadata": {},
   "outputs": [
    {
     "name": "stdout",
     "output_type": "stream",
     "text": [
      "Number of customers who wanted a preferred seat: 14521.0\n",
      "Number of customers who wanted in-flight meals: 20952.0\n"
     ]
    }
   ],
   "source": [
    "#8. How many customers wanted a `preferred seat` and in `flight meals`?\n",
    "\n",
    "\n",
    "#Counting how many customers wanted a preferred seat.\n",
    "preferred_seat_count = df['wants_preferred_seat'].sum()\n",
    "\n",
    "#Counting how many customers wanted in-flight meals\n",
    "in_flight_meals_count = df['wants_in_flight_meals'].sum()\n",
    "\n",
    "#to print the results\n",
    "print(\"Number of customers who wanted a preferred seat:\", preferred_seat_count)\n",
    "print(\"Number of customers who wanted in-flight meals:\", in_flight_meals_count)\n"
   ]
  },
  {
   "cell_type": "markdown",
   "id": "feb51f18",
   "metadata": {},
   "source": [
    "The number of customers who wanted a:\n",
    "* **Preferred seat**: 14,521\n",
    "* **In-flight meals**: 20,952\n",
    "\n"
   ]
  },
  {
   "cell_type": "code",
   "execution_count": 212,
   "id": "75e01d31",
   "metadata": {},
   "outputs": [
    {
     "name": "stdout",
     "output_type": "stream",
     "text": [
      "The trip type with the highest average flight duration is: OneWay\n",
      "The highest average flight duration for this trip type is: 7.970623376623377\n"
     ]
    }
   ],
   "source": [
    "#9. Which of the `trip type` had the highest average `flight duration`?\n",
    "\n",
    "\n",
    "#Grouping the data by 'trip_type' then calculating the average 'flight_duration'\n",
    "average_flight_duration = df.groupby('trip_type')['flight_duration'].mean()\n",
    "\n",
    "#Finding the trip type with the highest average flight duration\n",
    "highest_avg_trip_type = average_flight_duration.idxmax()\n",
    "highest_avg_duration = average_flight_duration.max()\n",
    "\n",
    "#to print the result\n",
    "print(\"The trip type with the highest average flight duration is:\", highest_avg_trip_type)\n",
    "print(\"The highest average flight duration for this trip type is:\", highest_avg_duration)\n"
   ]
  },
  {
   "cell_type": "markdown",
   "id": "d9f14a5c",
   "metadata": {},
   "source": [
    "The `OneWay` trip type has the highest average flight duration, with an average of 7.970623376623377 approximately **7.97 hours**.\n"
   ]
  },
  {
   "cell_type": "markdown",
   "id": "04cb352b",
   "metadata": {},
   "source": [
    "#10. Which day of the week had the highest average `flight duration`?"
   ]
  },
  {
   "cell_type": "code",
   "execution_count": 213,
   "id": "90b2e118",
   "metadata": {},
   "outputs": [
    {
     "name": "stdout",
     "output_type": "stream",
     "text": [
      "['Sat' 'Wed' 'Thu' 'Mon' 'Sun' 'Tue' 'Fri']\n"
     ]
    }
   ],
   "source": [
    "#Checking the unique values in the 'flight_day' to know what format it is\n",
    "unique_flight_days = df['flight_day'].unique()\n",
    "\n",
    "# Print the unique flight days\n",
    "print(unique_flight_days)\n"
   ]
  },
  {
   "cell_type": "code",
   "execution_count": 214,
   "id": "8c1e337b",
   "metadata": {},
   "outputs": [
    {
     "name": "stdout",
     "output_type": "stream",
     "text": [
      "Number of missing 'flight_day' values: 0\n"
     ]
    }
   ],
   "source": [
    "#Checking for missing or null values in the 'flight_day' column\n",
    "missing_flight_days = df['flight_day'].isnull().sum()\n",
    "\n",
    "print(f\"Number of missing 'flight_day' values: {missing_flight_days}\")\n"
   ]
  },
  {
   "cell_type": "code",
   "execution_count": 215,
   "id": "41c5faa2",
   "metadata": {},
   "outputs": [],
   "source": [
    "#Droping all rows where 'flight_day' is missing\n",
    "df_cleaned = df.dropna(subset=['flight_day'])\n"
   ]
  },
  {
   "cell_type": "code",
   "execution_count": 216,
   "id": "99528280",
   "metadata": {},
   "outputs": [
    {
     "name": "stdout",
     "output_type": "stream",
     "text": [
      "['Sat' 'Wed' 'Thu' 'Mon' 'Sun' 'Tue' 'Fri']\n"
     ]
    }
   ],
   "source": [
    "# Check the unique 'flight_day' values again\n",
    "unique_flight_days = df_cleaned['flight_day'].unique()\n",
    "print(unique_flight_days)\n"
   ]
  },
  {
   "cell_type": "code",
   "execution_count": 217,
   "id": "4520cfc0",
   "metadata": {},
   "outputs": [
    {
     "name": "stdout",
     "output_type": "stream",
     "text": [
      "The day of the week with the highest average flight duration is: Sun\n",
      "The highest average flight duration for this day is: 7.379128604832424\n"
     ]
    }
   ],
   "source": [
    "# Group by 'flight_day' and calculate the average 'flight_duration'\n",
    "avg_flight_duration_by_day = df_cleaned.groupby('flight_day')['flight_duration'].mean()\n",
    "\n",
    "# Find the day with the highest average flight duration\n",
    "highest_avg_flight_day = avg_flight_duration_by_day.idxmax()\n",
    "highest_avg_flight_duration = avg_flight_duration_by_day.max()\n",
    "\n",
    "# Print the result\n",
    "print(\"The day of the week with the highest average flight duration is:\", highest_avg_flight_day)\n",
    "print(\"The highest average flight duration for this day is:\", highest_avg_flight_duration)\n"
   ]
  },
  {
   "cell_type": "markdown",
   "id": "9baaf020",
   "metadata": {},
   "source": [
    " **Sunday** has the highest average flight duration, with an average of 7.379128604832424 approx **7.38 hours**.\n"
   ]
  }
 ],
 "metadata": {
  "kernelspec": {
   "display_name": "Python 3",
   "language": "python",
   "name": "python3"
  },
  "language_info": {
   "codemirror_mode": {
    "name": "ipython",
    "version": 3
   },
   "file_extension": ".py",
   "mimetype": "text/x-python",
   "name": "python",
   "nbconvert_exporter": "python",
   "pygments_lexer": "ipython3",
   "version": "3.11.9"
  }
 },
 "nbformat": 4,
 "nbformat_minor": 5
}
